{
 "cells": [
  {
   "cell_type": "markdown",
   "id": "121c6632",
   "metadata": {},
   "source": [
    "# 实验一 数据探索与预处理"
   ]
  },
  {
   "cell_type": "markdown",
   "id": "5f99f075",
   "metadata": {},
   "source": [
    "## 1 数据清洗"
   ]
  },
  {
   "cell_type": "markdown",
   "id": "7b10c1a7",
   "metadata": {},
   "source": [
    "### 1.1 找出不符合规则的数据并进行修正"
   ]
  },
  {
   "cell_type": "code",
   "execution_count": 1,
   "id": "af30da6e",
   "metadata": {
    "scrolled": true
   },
   "outputs": [
    {
     "data": {
      "text/html": [
       "<div>\n",
       "<style scoped>\n",
       "    .dataframe tbody tr th:only-of-type {\n",
       "        vertical-align: middle;\n",
       "    }\n",
       "\n",
       "    .dataframe tbody tr th {\n",
       "        vertical-align: top;\n",
       "    }\n",
       "\n",
       "    .dataframe thead th {\n",
       "        text-align: right;\n",
       "    }\n",
       "</style>\n",
       "<table border=\"1\" class=\"dataframe\">\n",
       "  <thead>\n",
       "    <tr style=\"text-align: right;\">\n",
       "      <th></th>\n",
       "      <th>是否认证</th>\n",
       "      <th>姓名</th>\n",
       "      <th>部门-职务</th>\n",
       "      <th>公司名称</th>\n",
       "      <th>工作内容</th>\n",
       "      <th>qq</th>\n",
       "      <th>email</th>\n",
       "      <th>tel</th>\n",
       "      <th>公司是否认证</th>\n",
       "      <th>注册资金</th>\n",
       "      <th>公司成立时间</th>\n",
       "      <th>公司年龄</th>\n",
       "      <th>教育经历</th>\n",
       "      <th>工作经历</th>\n",
       "    </tr>\n",
       "  </thead>\n",
       "  <tbody>\n",
       "    <tr>\n",
       "      <th>0</th>\n",
       "      <td>1</td>\n",
       "      <td>陈文才</td>\n",
       "      <td>客户经理</td>\n",
       "      <td>重庆心联宇科技有限公司</td>\n",
       "      <td>NaN</td>\n",
       "      <td>NaN</td>\n",
       "      <td>NaN</td>\n",
       "      <td>NaN</td>\n",
       "      <td>1</td>\n",
       "      <td>200万</td>\n",
       "      <td>2017/1/20</td>\n",
       "      <td>1年</td>\n",
       "      <td>重庆科技学院 1 热能与动力工程 2012-08-01 2016-06-01</td>\n",
       "      <td>重庆心联宇科技有限公司</td>\n",
       "    </tr>\n",
       "    <tr>\n",
       "      <th>1</th>\n",
       "      <td>1</td>\n",
       "      <td>黄彬</td>\n",
       "      <td>总部 执行董事</td>\n",
       "      <td>重庆善古堂科技有限公司</td>\n",
       "      <td>NaN</td>\n",
       "      <td>NaN</td>\n",
       "      <td>NaN</td>\n",
       "      <td>NaN</td>\n",
       "      <td>1</td>\n",
       "      <td>100万</td>\n",
       "      <td>2009/5/25</td>\n",
       "      <td>9年</td>\n",
       "      <td>第一军医大学 1 临床医学系 1990-01-01 1993-01-01</td>\n",
       "      <td>重庆善古堂科技有限公司 总部 执行董事 2008-05-01 现在</td>\n",
       "    </tr>\n",
       "    <tr>\n",
       "      <th>2</th>\n",
       "      <td>1</td>\n",
       "      <td>李玉萍</td>\n",
       "      <td>短信营销部 销售经理</td>\n",
       "      <td>北京亿美软通科技有限公司广州分公司</td>\n",
       "      <td>短信群发推广，短信验证码</td>\n",
       "      <td>NaN</td>\n",
       "      <td>NaN</td>\n",
       "      <td>NaN</td>\n",
       "      <td>1</td>\n",
       "      <td>NaN</td>\n",
       "      <td>2010/9/27</td>\n",
       "      <td>7年</td>\n",
       "      <td>广东农工商职业技术学院 0 市场营销 2014-09-01 2017-06-01</td>\n",
       "      <td>北京亿美软通科技有限公司广州分公司 短信营销部 销售经理</td>\n",
       "    </tr>\n",
       "    <tr>\n",
       "      <th>3</th>\n",
       "      <td>1</td>\n",
       "      <td>黄勇钦</td>\n",
       "      <td>市场部 大客户销售经理</td>\n",
       "      <td>重庆亿邦运输有限责任公司</td>\n",
       "      <td>川渝地区的仓储配送业务以及西南地区网络招商加盟。</td>\n",
       "      <td>NaN</td>\n",
       "      <td>NaN</td>\n",
       "      <td>NaN</td>\n",
       "      <td>1</td>\n",
       "      <td>200万</td>\n",
       "      <td>2009/1/7</td>\n",
       "      <td>9年</td>\n",
       "      <td>NaN</td>\n",
       "      <td>重庆亿邦运输有限责任公司</td>\n",
       "    </tr>\n",
       "    <tr>\n",
       "      <th>4</th>\n",
       "      <td>1</td>\n",
       "      <td>王旺</td>\n",
       "      <td>市场部 销售经理</td>\n",
       "      <td>深圳市深米网络科技有限公司</td>\n",
       "      <td>极速上线小程序</td>\n",
       "      <td>NaN</td>\n",
       "      <td>NaN</td>\n",
       "      <td>NaN</td>\n",
       "      <td>1</td>\n",
       "      <td>1000万</td>\n",
       "      <td>2014/5/30</td>\n",
       "      <td>4年</td>\n",
       "      <td>NaN</td>\n",
       "      <td>深圳深米网络科技有限公司</td>\n",
       "    </tr>\n",
       "  </tbody>\n",
       "</table>\n",
       "</div>"
      ],
      "text/plain": [
       "   是否认证   姓名        部门-职务               公司名称                      工作内容  qq  \\\n",
       "0     1  陈文才         客户经理        重庆心联宇科技有限公司                       NaN NaN   \n",
       "1     1   黄彬      总部 执行董事        重庆善古堂科技有限公司                       NaN NaN   \n",
       "2     1  李玉萍   短信营销部 销售经理  北京亿美软通科技有限公司广州分公司              短信群发推广，短信验证码 NaN   \n",
       "3     1  黄勇钦  市场部 大客户销售经理       重庆亿邦运输有限责任公司  川渝地区的仓储配送业务以及西南地区网络招商加盟。 NaN   \n",
       "4     1   王旺     市场部 销售经理      深圳市深米网络科技有限公司                   极速上线小程序 NaN   \n",
       "\n",
       "  email  tel  公司是否认证   注册资金     公司成立时间 公司年龄  \\\n",
       "0   NaN  NaN       1   200万  2017/1/20   1年   \n",
       "1   NaN  NaN       1   100万  2009/5/25   9年   \n",
       "2   NaN  NaN       1    NaN  2010/9/27   7年   \n",
       "3   NaN  NaN       1   200万   2009/1/7   9年   \n",
       "4   NaN  NaN       1  1000万  2014/5/30   4年   \n",
       "\n",
       "                                       教育经历                               工作经历  \n",
       "0    重庆科技学院 1 热能与动力工程 2012-08-01 2016-06-01                     重庆心联宇科技有限公司     \n",
       "1      第一军医大学 1 临床医学系 1990-01-01 1993-01-01  重庆善古堂科技有限公司 总部 执行董事 2008-05-01 现在  \n",
       "2  广东农工商职业技术学院 0 市场营销 2014-09-01 2017-06-01     北京亿美软通科技有限公司广州分公司 短信营销部 销售经理    \n",
       "3                                       NaN                    重庆亿邦运输有限责任公司     \n",
       "4                                       NaN                    深圳深米网络科技有限公司     "
      ]
     },
     "execution_count": 1,
     "metadata": {},
     "output_type": "execute_result"
    }
   ],
   "source": [
    "import pandas as pd\n",
    "import numpy as np\n",
    "\n",
    "# 读取csv\n",
    "# 中文解码这个我也不知道怎么高效处理，一般试试utf-8再试试gbk，再不行就搜索报错信息...\n",
    "data = pd.read_csv(\"ex1.csv\", encoding='gb18030')\n",
    "\n",
    "# 查看数据\n",
    "data.head()"
   ]
  },
  {
   "cell_type": "code",
   "execution_count": 2,
   "id": "5e36f8cd",
   "metadata": {},
   "outputs": [
    {
     "name": "stdout",
     "output_type": "stream",
     "text": [
      "<class 'pandas.core.frame.DataFrame'>\n",
      "RangeIndex: 7484 entries, 0 to 7483\n",
      "Data columns (total 14 columns):\n",
      " #   Column  Non-Null Count  Dtype  \n",
      "---  ------  --------------  -----  \n",
      " 0   是否认证    7484 non-null   int64  \n",
      " 1   姓名      7483 non-null   object \n",
      " 2   部门-职务   7483 non-null   object \n",
      " 3   公司名称    7453 non-null   object \n",
      " 4   工作内容    4458 non-null   object \n",
      " 5   qq      743 non-null    float64\n",
      " 6   email   1053 non-null   object \n",
      " 7   tel     1956 non-null   float64\n",
      " 8   公司是否认证  7484 non-null   int64  \n",
      " 9   注册资金    6685 non-null   object \n",
      " 10  公司成立时间  6973 non-null   object \n",
      " 11  公司年龄    6971 non-null   object \n",
      " 12  教育经历    2129 non-null   object \n",
      " 13  工作经历    7150 non-null   object \n",
      "dtypes: float64(2), int64(2), object(10)\n",
      "memory usage: 818.7+ KB\n"
     ]
    }
   ],
   "source": [
    "data.info()"
   ]
  },
  {
   "cell_type": "code",
   "execution_count": 7,
   "id": "86e6bf1b",
   "metadata": {},
   "outputs": [
    {
     "name": "stdout",
     "output_type": "stream",
     "text": [
      "<class 'pandas.core.frame.DataFrame'>\n",
      "Int64Index: 7210 entries, 0 to 7482\n",
      "Data columns (total 14 columns):\n",
      " #   Column  Non-Null Count  Dtype  \n",
      "---  ------  --------------  -----  \n",
      " 0   是否认证    7210 non-null   int64  \n",
      " 1   姓名      7210 non-null   object \n",
      " 2   部门-职务   7210 non-null   object \n",
      " 3   公司名称    7181 non-null   object \n",
      " 4   工作内容    4337 non-null   object \n",
      " 5   qq      731 non-null    float64\n",
      " 6   email   1037 non-null   object \n",
      " 7   tel     1925 non-null   float64\n",
      " 8   公司是否认证  7210 non-null   int64  \n",
      " 9   注册资金    6485 non-null   object \n",
      " 10  公司成立时间  6761 non-null   object \n",
      " 11  公司年龄    6759 non-null   object \n",
      " 12  教育经历    2087 non-null   object \n",
      " 13  工作经历    6896 non-null   object \n",
      "dtypes: float64(2), int64(2), object(10)\n",
      "memory usage: 844.9+ KB\n"
     ]
    }
   ],
   "source": [
    "# 消除空格\n",
    "data.replace(\"\\s+\", \"\", regex=True, inplace=True)\n",
    "\n",
    "# 将姓名字段的非中文清空\n",
    "data[\"姓名\"].replace(r'[^\\u4e00-\\u9fa5]+', np.NaN, regex=True, inplace=True)\n",
    "\n",
    "# 去除姓名字段为空的行\n",
    "data.dropna(subset=[\"姓名\"], inplace=True)\n",
    "\n",
    "data.info()"
   ]
  },
  {
   "cell_type": "code",
   "execution_count": null,
   "id": "14d4ac65",
   "metadata": {},
   "outputs": [],
   "source": []
  },
  {
   "cell_type": "markdown",
   "id": "f33dd42d",
   "metadata": {},
   "source": [
    "### 1.2 根据字段含义将数据处理为合适的格式"
   ]
  },
  {
   "cell_type": "code",
   "execution_count": null,
   "id": "984cda9a",
   "metadata": {},
   "outputs": [],
   "source": []
  },
  {
   "cell_type": "markdown",
   "id": "61796312",
   "metadata": {},
   "source": [
    "### 1.3\t进行数据概化"
   ]
  },
  {
   "cell_type": "code",
   "execution_count": null,
   "id": "7492b715",
   "metadata": {},
   "outputs": [],
   "source": []
  },
  {
   "cell_type": "markdown",
   "id": "2a81e142",
   "metadata": {},
   "source": [
    "## 2 数据可视化"
   ]
  },
  {
   "cell_type": "code",
   "execution_count": null,
   "id": "490291c8",
   "metadata": {},
   "outputs": [],
   "source": []
  },
  {
   "cell_type": "markdown",
   "id": "4a6d71f1",
   "metadata": {},
   "source": [
    "### 2.1 按照数据类型进行图表展示"
   ]
  },
  {
   "cell_type": "code",
   "execution_count": null,
   "id": "4b184a00",
   "metadata": {},
   "outputs": [],
   "source": []
  },
  {
   "cell_type": "markdown",
   "id": "923e9ce4",
   "metadata": {},
   "source": [
    "### 2.2 相关分析"
   ]
  },
  {
   "cell_type": "code",
   "execution_count": null,
   "id": "d40a0aec",
   "metadata": {},
   "outputs": [],
   "source": []
  },
  {
   "cell_type": "markdown",
   "id": "6f13e6fe",
   "metadata": {},
   "source": [
    "### 2.3 对比分析"
   ]
  },
  {
   "cell_type": "code",
   "execution_count": null,
   "id": "3ccd6e86",
   "metadata": {},
   "outputs": [],
   "source": []
  },
  {
   "cell_type": "markdown",
   "id": "ff215842",
   "metadata": {},
   "source": [
    "## 3 思考"
   ]
  },
  {
   "cell_type": "markdown",
   "id": "3a04be48",
   "metadata": {},
   "source": [
    "### 3.1 数据隐私保护"
   ]
  },
  {
   "cell_type": "code",
   "execution_count": null,
   "id": "5866c831",
   "metadata": {},
   "outputs": [],
   "source": []
  }
 ],
 "metadata": {
  "kernelspec": {
   "display_name": "TensorFlow-CPU",
   "language": "python",
   "name": "tensorflow-cpu"
  },
  "language_info": {
   "codemirror_mode": {
    "name": "ipython",
    "version": 3
   },
   "file_extension": ".py",
   "mimetype": "text/x-python",
   "name": "python",
   "nbconvert_exporter": "python",
   "pygments_lexer": "ipython3",
   "version": "3.8.8"
  }
 },
 "nbformat": 4,
 "nbformat_minor": 5
}
