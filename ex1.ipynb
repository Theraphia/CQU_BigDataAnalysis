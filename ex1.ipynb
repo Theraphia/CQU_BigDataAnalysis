{
 "cells": [
  {
   "cell_type": "markdown",
   "id": "121c6632",
   "metadata": {},
   "source": [
    "# 实验一 数据探索与预处理"
   ]
  },
  {
   "cell_type": "markdown",
   "id": "5f99f075",
   "metadata": {},
   "source": [
    "## 1 数据清洗"
   ]
  },
  {
   "cell_type": "markdown",
   "id": "7b10c1a7",
   "metadata": {},
   "source": [
    "### 1.1 找出不符合规则的数据并进行修正"
   ]
  },
  {
   "cell_type": "code",
   "execution_count": null,
   "id": "af30da6e",
   "metadata": {},
   "outputs": [],
   "source": [
    "import pandas as pd\n",
    "import numpy as np\n",
    "import re\n",
    "\n",
    "# 读取csv\n",
    "# 中文解码这个我也不知道怎么高效处理，一般试试utf-8再试试gbk，再不行就搜索报错信息...\n",
    "# 长号码串不读取为数字更好处理\n",
    "data = pd.read_csv(\"ex1.csv\", encoding='gb18030', dtype={'qq':object, 'tel':object})"
   ]
  },
  {
   "cell_type": "code",
   "execution_count": null,
   "id": "86e6bf1b",
   "metadata": {},
   "outputs": [],
   "source": [
    "# 对空白字符进行处理\n",
    "# 姓名删除多个空格，仅保留一个（考虑英文名）\n",
    "data[\"姓名\"].replace(\"\\s+\", \" \", regex=True, inplace=True)\n",
    "# 去除空白字符， 部门-职务、教育经历和工作经历为保持格式不去除\n",
    "data[\"公司名称\"].replace(\"\\s+\", \"\", regex=True, inplace=True)\n",
    "data[\"工作内容\"].replace(\"\\s+\", \"\", regex=True, inplace=True)\n",
    "data[\"email\"].replace(\"\\s+\", \"\", regex=True, inplace=True)\n",
    "data[\"注册资金\"].replace(\"\\s+\", \"\", regex=True, inplace=True)\n",
    "\n",
    "# 姓名只允许中文英文\n",
    "data[\"姓名\"].replace(\"[^\\w\\u4e00-\\u9fff]+\", np.NaN, regex=True, inplace=True)\n",
    "\n",
    "# Tel列只允许合法格式\n",
    "data[\"tel\"].replace(\"^[^1[35678]\\d{9}$]\", np.NaN, regex=True, inplace=True)\n",
    "\n",
    "# 去除姓名字段为空的行\n",
    "data.dropna(subset=[\"姓名\"], inplace=True)\n"
   ]
  },
  {
   "cell_type": "code",
   "execution_count": null,
   "id": "5d9b55c2",
   "metadata": {
    "scrolled": false
   },
   "outputs": [],
   "source": [
    "data"
   ]
  },
  {
   "cell_type": "markdown",
   "id": "f33dd42d",
   "metadata": {},
   "source": [
    "### 1.2 根据字段含义将数据处理为合适的格式"
   ]
  },
  {
   "cell_type": "code",
   "execution_count": null,
   "id": "984cda9a",
   "metadata": {
    "scrolled": true
   },
   "outputs": [],
   "source": [
    "# 拆分部门-职务\n",
    "\n",
    "# 直接拆分成两个新列\n",
    "d1 = data[\"部门-职务\"].str.split(\" \", expand=True)\n",
    "d1.drop(d1.columns[2:], axis=1, inplace=True)\n",
    "d1.columns = [\"部门\", \"职务\"]\n",
    "\n",
    "# 删除旧列, 添加新列\n",
    "data = data.drop(\"部门-职务\", axis=1).join(d1)\n",
    "data"
   ]
  },
  {
   "cell_type": "code",
   "execution_count": null,
   "id": "25244ba3",
   "metadata": {},
   "outputs": [],
   "source": [
    "# 注册资金转为数值\n",
    "def to_num(x):\n",
    "    num = float(re.findall(\"^\\d+\\.?\\d*\", x)[0])\n",
    "    if x[-1] == '万':\n",
    "        unit = 10000\n",
    "    elif x[-1] == '亿':\n",
    "        unit = 100000000\n",
    "    else:\n",
    "        unit = 1\n",
    "    return num * unit\n",
    "\n",
    "data[\"注册资金\"] = data[\"注册资金\"].apply(lambda x: np.NaN if x!=x else to_num(x))\n",
    "\n",
    "data"
   ]
  },
  {
   "cell_type": "code",
   "execution_count": null,
   "id": "4ac64b9a",
   "metadata": {
    "scrolled": true
   },
   "outputs": [],
   "source": [
    "# 公司成立时间转为yyyy-mm-dd格式\n",
    "data[\"公司成立时间\"] = data[\"公司成立时间\"].apply(lambda x: np.NaN if x == \"未公示\" else pd.to_datetime(x, format='%Y-%m-%d'))\n",
    "\n",
    "# 公司年龄转数值\n",
    "data[\"公司年龄\"] = data[\"公司年龄\"].apply(lambda x: np.NaN if x!=x else 0 if x == \"不足一年\" else int(re.findall(\"\\d+\\.?\\d*\", x)[0]))\n",
    "\n",
    "data"
   ]
  },
  {
   "cell_type": "code",
   "execution_count": null,
   "id": "7e24c50a",
   "metadata": {
    "scrolled": true
   },
   "outputs": [],
   "source": [
    "# 教育经历拆分\n",
    "# 拆分为 学校 是否本科 入学时间 毕业时间\n",
    "d2 = data[\"教育经历\"].str.split(\" \", expand=True)\n",
    "d2.drop(d2.columns[5:], axis=1, inplace=True)\n",
    "d2.columns = [\"学校\", \"是否本科\", \"专业\", \"入学时间\", \"毕业时间\"]\n",
    "data = data.drop(\"教育经历\", axis=1).join(d2)\n",
    "\n",
    "data"
   ]
  },
  {
   "cell_type": "code",
   "execution_count": null,
   "id": "83de6ac8",
   "metadata": {
    "scrolled": false
   },
   "outputs": [],
   "source": [
    "# 工作经历拆分\n",
    "# 拆分为 曾属公司 曾属部门 曾任职位 入职时间 离职时间\n",
    "d3 = data[\"工作经历\"].str.split(\" \", expand=True)\n",
    "d3.drop(d3.columns[5:], axis=1, inplace=True)\n",
    "d3.columns = [\"曾属公司\", \"曾属部门\", \"曾任职位\", \"入职时间\", \"离职时间\"]\n",
    "data = data.drop(\"工作经历\", axis=1).join(d3)\n",
    "\n",
    "data"
   ]
  },
  {
   "cell_type": "markdown",
   "id": "61796312",
   "metadata": {},
   "source": [
    "### 1.3\t进行数据概化"
   ]
  },
  {
   "cell_type": "code",
   "execution_count": null,
   "id": "7492b715",
   "metadata": {
    "scrolled": true
   },
   "outputs": [],
   "source": [
    "# 职务等级划分\n",
    "def job_level(job):\n",
    "    job = str(job)\n",
    "    if job.find(\"董事\")!= -1 or job.find(\"主席\")!= -1:\n",
    "        return \"A\"\n",
    "    elif job.find(\"总经理\")!= -1 or job.find(\"总裁\")!= -1:\n",
    "        return \"B\"\n",
    "    elif job.find(\"总监\")!= -1 or job.find(\"经理\")!= -1 or job.find(\"主任\")!= -1 or job.find(\"主管\")!= -1:\n",
    "        return \"C\"\n",
    "    elif job.find(\"工程师\")!= -1 or job.find(\"员\")!= -1 or job.find(\"实习生\")!= -1:\n",
    "        return \"D\"\n",
    "    else:\n",
    "        return \"E\"\n",
    "    \n",
    "d4 = data[\"职务\"].apply(lambda x: np.NaN if x!=x else job_level(x))\n",
    "d4 = d4.to_frame(name=\"职务等级\")\n",
    "data = data.join(d4)\n",
    "\n",
    "data"
   ]
  },
  {
   "cell_type": "code",
   "execution_count": null,
   "id": "d2a6c810",
   "metadata": {
    "scrolled": true
   },
   "outputs": [],
   "source": [
    "# 工作类别划分\n",
    "def job_kind(job):\n",
    "    job = str(job)\n",
    "    if job.find(\"销售\")!= -1 or job.find(\"市场\")!= -1 or job.find(\"客户\")!= -1:\n",
    "        return \"市场类\"\n",
    "    elif job.find(\"业务\")!= -1 or job.find(\"技术\")!= -1 or job.find(\"项目\")!= -1 or job.find(\"执行\")!= -1:\n",
    "        return \"技术类\"\n",
    "    elif job.find(\"营销\")!= -1 or job.find(\"宣传\")!= -1  or job.find(\"商务\")!= -1:\n",
    "        return \"营销类\"\n",
    "    else:\n",
    "        return \"其他类\"\n",
    "    \n",
    "d5 = data[\"职务\"].apply(lambda x: np.NaN if x!=x else job_kind(x))\n",
    "d5 = d5.to_frame(name=\"工作类别\")\n",
    "data = data.join(d5)\n",
    "\n",
    "data"
   ]
  },
  {
   "cell_type": "code",
   "execution_count": null,
   "id": "17344dc2",
   "metadata": {},
   "outputs": [],
   "source": [
    "# 公司领域划分\n",
    "def company_kind(c):\n",
    "    c = str(c)\n",
    "    if c.find(\"科技\")!= -1 or c.find(\"软件\")!= -1 or c.find(\"计算机\")!= -1 or c.find(\"技术\")!= -1:\n",
    "        return \"科技类\"\n",
    "    elif c.find(\"文化\")!= -1 or c.find(\"传媒\")!= -1 or c.find(\"广告\")!= -1:\n",
    "        return \"文化传媒类\"\n",
    "    elif c.find(\"咨询\")!= -1:\n",
    "        return \"咨询类\"\n",
    "    elif c.find(\"管理\")!= -1:\n",
    "        return \"管理类\"\n",
    "    elif c.find(\"贸\")!= -1:\n",
    "        return \"贸易类\"\n",
    "    elif c.find(\"服务\")!= -1:\n",
    "        return \"服务类\"\n",
    "    else:\n",
    "        return \"其他类\"\n",
    "    \n",
    "d6 = data[\"公司名称\"].apply(lambda x: np.NaN if x!=x else company_kind(x))\n",
    "d6 = d6.to_frame(name=\"公司领域\")\n",
    "data = data.join(d6)\n",
    "\n",
    "data"
   ]
  },
  {
   "cell_type": "code",
   "execution_count": null,
   "id": "e522a652",
   "metadata": {
    "scrolled": false
   },
   "outputs": [],
   "source": [
    "# 注册资金等级划分\n",
    "def money_level(num):\n",
    "    if num < 10000000:\n",
    "        return \"1000万以下\"\n",
    "    elif num < 50000000:\n",
    "        return \"1000万以上5000万以下\"\n",
    "    elif num < 100000000:\n",
    "        return \"5000万以上1亿以下\"\n",
    "    else:\n",
    "        return \"1亿以上\"\n",
    "    \n",
    "d7 = data[\"注册资金\"].apply(lambda x: np.NaN if x!=x else money_level(x))\n",
    "d7 = d7.to_frame(name=\"注册资金等级\")\n",
    "data = data.join(d7)\n",
    "\n",
    "data"
   ]
  },
  {
   "cell_type": "markdown",
   "id": "2a81e142",
   "metadata": {},
   "source": [
    "## 2 数据可视化"
   ]
  },
  {
   "cell_type": "code",
   "execution_count": null,
   "id": "0983eec9",
   "metadata": {},
   "outputs": [],
   "source": [
    "import seaborn as sns\n",
    "import matplotlib.pyplot as plt"
   ]
  },
  {
   "cell_type": "markdown",
   "id": "4a6d71f1",
   "metadata": {},
   "source": [
    "### 2.1 按照数据类型进行图表展示"
   ]
  },
  {
   "cell_type": "code",
   "execution_count": null,
   "id": "4b184a00",
   "metadata": {},
   "outputs": [],
   "source": [
    "# 职务等级\n",
    "sns.set_style('whitegrid',{'font.sans-serif':['simhei','Arial']}) \n",
    "sns.countplot(x=\"职务等级\", data=data, order=['A','B','C','D','E'])"
   ]
  },
  {
   "cell_type": "code",
   "execution_count": null,
   "id": "28148048",
   "metadata": {},
   "outputs": [],
   "source": [
    "# 工作类别\n",
    "sns.countplot(x=\"工作类别\", data=data)"
   ]
  },
  {
   "cell_type": "code",
   "execution_count": null,
   "id": "a17cdb5f",
   "metadata": {},
   "outputs": [],
   "source": [
    "# 公司领域\n",
    "sns.countplot(x=\"公司领域\", data=data)"
   ]
  },
  {
   "cell_type": "code",
   "execution_count": null,
   "id": "a73c9e92",
   "metadata": {},
   "outputs": [],
   "source": [
    "# 公司年龄\n",
    "sns.countplot(x=\"公司年龄\", data=data.sort_values(by=\"公司年龄\", ascending=True))"
   ]
  },
  {
   "cell_type": "markdown",
   "id": "923e9ce4",
   "metadata": {},
   "source": [
    "### 2.2 相关分析"
   ]
  },
  {
   "cell_type": "code",
   "execution_count": null,
   "id": "d40a0aec",
   "metadata": {},
   "outputs": [],
   "source": [
    "# 用户是否认证和公司是否认证\n",
    "a = data[(data[\"是否认证\"] == 1) & (data[\"公司是否认证\"]== 1)].shape[0]\n",
    "b = data[(data[\"是否认证\"] == 0) & (data[\"公司是否认证\"]== 1)].shape[0]\n",
    "c = data[(data[\"是否认证\"] == 1) & (data[\"公司是否认证\"]== 0)].shape[0]\n",
    "d = data[(data[\"是否认证\"] == 0) & (data[\"公司是否认证\"]== 0)].shape[0]\n",
    "\n",
    "df = pd.DataFrame([[a,b],[c,d]], columns=[\"用户认证\",\"用户未认证\"], index =[\"公司认证\",\"公司未认证\"])\n",
    "sns.heatmap(df,annot=True, fmt='.20g')"
   ]
  },
  {
   "cell_type": "code",
   "execution_count": null,
   "id": "9f40e51c",
   "metadata": {
    "scrolled": false
   },
   "outputs": [],
   "source": [
    "# 注册资金与公司年龄\n",
    "plt.figure(figsize=(10, 5))\n",
    "p = sns.scatterplot(x=\"公司年龄\", y=\"注册资金\", data=data)\n",
    "p.set_xlim(0,45)\n",
    "p.set_ylim(0,1000000000)"
   ]
  },
  {
   "cell_type": "markdown",
   "id": "6f13e6fe",
   "metadata": {},
   "source": [
    "### 2.3 对比分析"
   ]
  },
  {
   "cell_type": "code",
   "execution_count": null,
   "id": "3ccd6e86",
   "metadata": {},
   "outputs": [],
   "source": [
    "# 认证用户与非认证用户职务分布\n",
    "plt.figure(figsize=(10, 5))\n",
    "sns.countplot(x=\"职务等级\", hue=\"是否认证\", data=data, order=['A','B','C','D','E'])"
   ]
  },
  {
   "cell_type": "code",
   "execution_count": null,
   "id": "f447f90e",
   "metadata": {},
   "outputs": [],
   "source": [
    "# 认证公司与非认证公司资金差异\n",
    "plt.figure(figsize=(10, 5))\n",
    "sns.countplot(x=\"注册资金等级\", hue=\"公司是否认证\", data=data, palette='coolwarm', order=['1亿以上','5000万以上1亿以下','1000万以上5000万以下','1000万以下'])\n",
    "\n",
    "# 认证公司与非认证公司年龄差异\n",
    "plt.figure(figsize=(10, 5))\n",
    "p = sns.countplot(x=\"公司年龄\", hue=\"是否认证\", data=data.sort_values(by=\"公司年龄\", ascending=True))\n",
    "p.set_xlim(0,30)\n"
   ]
  }
 ],
 "metadata": {
  "kernelspec": {
   "display_name": "TensorFlow-CPU",
   "language": "python",
   "name": "tensorflow-cpu"
  },
  "language_info": {
   "codemirror_mode": {
    "name": "ipython",
    "version": 3
   },
   "file_extension": ".py",
   "mimetype": "text/x-python",
   "name": "python",
   "nbconvert_exporter": "python",
   "pygments_lexer": "ipython3",
   "version": "3.8.8"
  }
 },
 "nbformat": 4,
 "nbformat_minor": 5
}
