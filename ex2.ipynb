{
 "cells": [
  {
   "cell_type": "markdown",
   "id": "81c260e4",
   "metadata": {},
   "source": [
    "# 实验二 基于奇异值分解的推荐算法"
   ]
  },
  {
   "cell_type": "markdown",
   "id": "23c9246e",
   "metadata": {},
   "source": [
    "## 1 数据预处理"
   ]
  },
  {
   "cell_type": "code",
   "execution_count": 73,
   "id": "65e96703",
   "metadata": {},
   "outputs": [],
   "source": [
    "import pandas as pd\n",
    "import numpy as np\n",
    "import random\n",
    "import matplotlib.pyplot as plt"
   ]
  },
  {
   "cell_type": "code",
   "execution_count": null,
   "id": "9f286826",
   "metadata": {},
   "outputs": [],
   "source": [
    "# 读取数据\n",
    "movies = pd.read_csv(\"movies.dat\", sep=\"::\", header=None, names=['MovieID','Title','Genres'])\n",
    "users = pd.read_csv(\"users.dat\", sep=\"::\", header=None, names=['UserID','Gender','Age','Occupation','Zip-code'])\n",
    "ratings = pd.read_csv(\"ratings.dat\", sep=\"::\", header=None, names=['UserID','MovieID','Rating','Timestamp'])"
   ]
  },
  {
   "cell_type": "code",
   "execution_count": 7,
   "id": "37309f15",
   "metadata": {
    "scrolled": true
   },
   "outputs": [
    {
     "data": {
      "text/html": [
       "<div>\n",
       "<style scoped>\n",
       "    .dataframe tbody tr th:only-of-type {\n",
       "        vertical-align: middle;\n",
       "    }\n",
       "\n",
       "    .dataframe tbody tr th {\n",
       "        vertical-align: top;\n",
       "    }\n",
       "\n",
       "    .dataframe thead th {\n",
       "        text-align: right;\n",
       "    }\n",
       "</style>\n",
       "<table border=\"1\" class=\"dataframe\">\n",
       "  <thead>\n",
       "    <tr style=\"text-align: right;\">\n",
       "      <th></th>\n",
       "      <th>MovieID</th>\n",
       "      <th>Title</th>\n",
       "      <th>Genres</th>\n",
       "    </tr>\n",
       "  </thead>\n",
       "  <tbody>\n",
       "    <tr>\n",
       "      <th>0</th>\n",
       "      <td>1</td>\n",
       "      <td>Toy Story (1995)</td>\n",
       "      <td>Animation|Children's|Comedy</td>\n",
       "    </tr>\n",
       "    <tr>\n",
       "      <th>1</th>\n",
       "      <td>2</td>\n",
       "      <td>Jumanji (1995)</td>\n",
       "      <td>Adventure|Children's|Fantasy</td>\n",
       "    </tr>\n",
       "    <tr>\n",
       "      <th>2</th>\n",
       "      <td>3</td>\n",
       "      <td>Grumpier Old Men (1995)</td>\n",
       "      <td>Comedy|Romance</td>\n",
       "    </tr>\n",
       "    <tr>\n",
       "      <th>3</th>\n",
       "      <td>4</td>\n",
       "      <td>Waiting to Exhale (1995)</td>\n",
       "      <td>Comedy|Drama</td>\n",
       "    </tr>\n",
       "    <tr>\n",
       "      <th>4</th>\n",
       "      <td>5</td>\n",
       "      <td>Father of the Bride Part II (1995)</td>\n",
       "      <td>Comedy</td>\n",
       "    </tr>\n",
       "    <tr>\n",
       "      <th>...</th>\n",
       "      <td>...</td>\n",
       "      <td>...</td>\n",
       "      <td>...</td>\n",
       "    </tr>\n",
       "    <tr>\n",
       "      <th>3878</th>\n",
       "      <td>3948</td>\n",
       "      <td>Meet the Parents (2000)</td>\n",
       "      <td>Comedy</td>\n",
       "    </tr>\n",
       "    <tr>\n",
       "      <th>3879</th>\n",
       "      <td>3949</td>\n",
       "      <td>Requiem for a Dream (2000)</td>\n",
       "      <td>Drama</td>\n",
       "    </tr>\n",
       "    <tr>\n",
       "      <th>3880</th>\n",
       "      <td>3950</td>\n",
       "      <td>Tigerland (2000)</td>\n",
       "      <td>Drama</td>\n",
       "    </tr>\n",
       "    <tr>\n",
       "      <th>3881</th>\n",
       "      <td>3951</td>\n",
       "      <td>Two Family House (2000)</td>\n",
       "      <td>Drama</td>\n",
       "    </tr>\n",
       "    <tr>\n",
       "      <th>3882</th>\n",
       "      <td>3952</td>\n",
       "      <td>Contender, The (2000)</td>\n",
       "      <td>Drama|Thriller</td>\n",
       "    </tr>\n",
       "  </tbody>\n",
       "</table>\n",
       "<p>3883 rows × 3 columns</p>\n",
       "</div>"
      ],
      "text/plain": [
       "      MovieID                               Title  \\\n",
       "0           1                    Toy Story (1995)   \n",
       "1           2                      Jumanji (1995)   \n",
       "2           3             Grumpier Old Men (1995)   \n",
       "3           4            Waiting to Exhale (1995)   \n",
       "4           5  Father of the Bride Part II (1995)   \n",
       "...       ...                                 ...   \n",
       "3878     3948             Meet the Parents (2000)   \n",
       "3879     3949          Requiem for a Dream (2000)   \n",
       "3880     3950                    Tigerland (2000)   \n",
       "3881     3951             Two Family House (2000)   \n",
       "3882     3952               Contender, The (2000)   \n",
       "\n",
       "                            Genres  \n",
       "0      Animation|Children's|Comedy  \n",
       "1     Adventure|Children's|Fantasy  \n",
       "2                   Comedy|Romance  \n",
       "3                     Comedy|Drama  \n",
       "4                           Comedy  \n",
       "...                            ...  \n",
       "3878                        Comedy  \n",
       "3879                         Drama  \n",
       "3880                         Drama  \n",
       "3881                         Drama  \n",
       "3882                Drama|Thriller  \n",
       "\n",
       "[3883 rows x 3 columns]"
      ]
     },
     "execution_count": 7,
     "metadata": {},
     "output_type": "execute_result"
    }
   ],
   "source": [
    "movies"
   ]
  },
  {
   "cell_type": "code",
   "execution_count": 8,
   "id": "15b74a40",
   "metadata": {},
   "outputs": [
    {
     "data": {
      "text/html": [
       "<div>\n",
       "<style scoped>\n",
       "    .dataframe tbody tr th:only-of-type {\n",
       "        vertical-align: middle;\n",
       "    }\n",
       "\n",
       "    .dataframe tbody tr th {\n",
       "        vertical-align: top;\n",
       "    }\n",
       "\n",
       "    .dataframe thead th {\n",
       "        text-align: right;\n",
       "    }\n",
       "</style>\n",
       "<table border=\"1\" class=\"dataframe\">\n",
       "  <thead>\n",
       "    <tr style=\"text-align: right;\">\n",
       "      <th></th>\n",
       "      <th>UserID</th>\n",
       "      <th>Gender</th>\n",
       "      <th>Age</th>\n",
       "      <th>Occupation</th>\n",
       "      <th>Zip-code</th>\n",
       "    </tr>\n",
       "  </thead>\n",
       "  <tbody>\n",
       "    <tr>\n",
       "      <th>0</th>\n",
       "      <td>1</td>\n",
       "      <td>F</td>\n",
       "      <td>1</td>\n",
       "      <td>10</td>\n",
       "      <td>48067</td>\n",
       "    </tr>\n",
       "    <tr>\n",
       "      <th>1</th>\n",
       "      <td>2</td>\n",
       "      <td>M</td>\n",
       "      <td>56</td>\n",
       "      <td>16</td>\n",
       "      <td>70072</td>\n",
       "    </tr>\n",
       "    <tr>\n",
       "      <th>2</th>\n",
       "      <td>3</td>\n",
       "      <td>M</td>\n",
       "      <td>25</td>\n",
       "      <td>15</td>\n",
       "      <td>55117</td>\n",
       "    </tr>\n",
       "    <tr>\n",
       "      <th>3</th>\n",
       "      <td>4</td>\n",
       "      <td>M</td>\n",
       "      <td>45</td>\n",
       "      <td>7</td>\n",
       "      <td>02460</td>\n",
       "    </tr>\n",
       "    <tr>\n",
       "      <th>4</th>\n",
       "      <td>5</td>\n",
       "      <td>M</td>\n",
       "      <td>25</td>\n",
       "      <td>20</td>\n",
       "      <td>55455</td>\n",
       "    </tr>\n",
       "    <tr>\n",
       "      <th>...</th>\n",
       "      <td>...</td>\n",
       "      <td>...</td>\n",
       "      <td>...</td>\n",
       "      <td>...</td>\n",
       "      <td>...</td>\n",
       "    </tr>\n",
       "    <tr>\n",
       "      <th>6035</th>\n",
       "      <td>6036</td>\n",
       "      <td>F</td>\n",
       "      <td>25</td>\n",
       "      <td>15</td>\n",
       "      <td>32603</td>\n",
       "    </tr>\n",
       "    <tr>\n",
       "      <th>6036</th>\n",
       "      <td>6037</td>\n",
       "      <td>F</td>\n",
       "      <td>45</td>\n",
       "      <td>1</td>\n",
       "      <td>76006</td>\n",
       "    </tr>\n",
       "    <tr>\n",
       "      <th>6037</th>\n",
       "      <td>6038</td>\n",
       "      <td>F</td>\n",
       "      <td>56</td>\n",
       "      <td>1</td>\n",
       "      <td>14706</td>\n",
       "    </tr>\n",
       "    <tr>\n",
       "      <th>6038</th>\n",
       "      <td>6039</td>\n",
       "      <td>F</td>\n",
       "      <td>45</td>\n",
       "      <td>0</td>\n",
       "      <td>01060</td>\n",
       "    </tr>\n",
       "    <tr>\n",
       "      <th>6039</th>\n",
       "      <td>6040</td>\n",
       "      <td>M</td>\n",
       "      <td>25</td>\n",
       "      <td>6</td>\n",
       "      <td>11106</td>\n",
       "    </tr>\n",
       "  </tbody>\n",
       "</table>\n",
       "<p>6040 rows × 5 columns</p>\n",
       "</div>"
      ],
      "text/plain": [
       "      UserID Gender  Age  Occupation Zip-code\n",
       "0          1      F    1          10    48067\n",
       "1          2      M   56          16    70072\n",
       "2          3      M   25          15    55117\n",
       "3          4      M   45           7    02460\n",
       "4          5      M   25          20    55455\n",
       "...      ...    ...  ...         ...      ...\n",
       "6035    6036      F   25          15    32603\n",
       "6036    6037      F   45           1    76006\n",
       "6037    6038      F   56           1    14706\n",
       "6038    6039      F   45           0    01060\n",
       "6039    6040      M   25           6    11106\n",
       "\n",
       "[6040 rows x 5 columns]"
      ]
     },
     "execution_count": 8,
     "metadata": {},
     "output_type": "execute_result"
    }
   ],
   "source": [
    "users"
   ]
  },
  {
   "cell_type": "code",
   "execution_count": 9,
   "id": "b03e9d64",
   "metadata": {},
   "outputs": [
    {
     "data": {
      "text/html": [
       "<div>\n",
       "<style scoped>\n",
       "    .dataframe tbody tr th:only-of-type {\n",
       "        vertical-align: middle;\n",
       "    }\n",
       "\n",
       "    .dataframe tbody tr th {\n",
       "        vertical-align: top;\n",
       "    }\n",
       "\n",
       "    .dataframe thead th {\n",
       "        text-align: right;\n",
       "    }\n",
       "</style>\n",
       "<table border=\"1\" class=\"dataframe\">\n",
       "  <thead>\n",
       "    <tr style=\"text-align: right;\">\n",
       "      <th></th>\n",
       "      <th>UserID</th>\n",
       "      <th>MovieID</th>\n",
       "      <th>Rating</th>\n",
       "      <th>Timestamp</th>\n",
       "    </tr>\n",
       "  </thead>\n",
       "  <tbody>\n",
       "    <tr>\n",
       "      <th>0</th>\n",
       "      <td>1</td>\n",
       "      <td>1193</td>\n",
       "      <td>5</td>\n",
       "      <td>978300760</td>\n",
       "    </tr>\n",
       "    <tr>\n",
       "      <th>1</th>\n",
       "      <td>1</td>\n",
       "      <td>661</td>\n",
       "      <td>3</td>\n",
       "      <td>978302109</td>\n",
       "    </tr>\n",
       "    <tr>\n",
       "      <th>2</th>\n",
       "      <td>1</td>\n",
       "      <td>914</td>\n",
       "      <td>3</td>\n",
       "      <td>978301968</td>\n",
       "    </tr>\n",
       "    <tr>\n",
       "      <th>3</th>\n",
       "      <td>1</td>\n",
       "      <td>3408</td>\n",
       "      <td>4</td>\n",
       "      <td>978300275</td>\n",
       "    </tr>\n",
       "    <tr>\n",
       "      <th>4</th>\n",
       "      <td>1</td>\n",
       "      <td>2355</td>\n",
       "      <td>5</td>\n",
       "      <td>978824291</td>\n",
       "    </tr>\n",
       "  </tbody>\n",
       "</table>\n",
       "</div>"
      ],
      "text/plain": [
       "   UserID  MovieID  Rating  Timestamp\n",
       "0       1     1193       5  978300760\n",
       "1       1      661       3  978302109\n",
       "2       1      914       3  978301968\n",
       "3       1     3408       4  978300275\n",
       "4       1     2355       5  978824291"
      ]
     },
     "execution_count": 9,
     "metadata": {},
     "output_type": "execute_result"
    }
   ],
   "source": [
    "ratings.head()"
   ]
  },
  {
   "cell_type": "code",
   "execution_count": 24,
   "id": "10dfc31f",
   "metadata": {},
   "outputs": [
    {
     "name": "stdout",
     "output_type": "stream",
     "text": [
      "<class 'pandas.core.frame.DataFrame'>\n",
      "RangeIndex: 1000209 entries, 0 to 1000208\n",
      "Data columns (total 4 columns):\n",
      " #   Column     Non-Null Count    Dtype\n",
      "---  ------     --------------    -----\n",
      " 0   UserID     1000209 non-null  int64\n",
      " 1   MovieID    1000209 non-null  int64\n",
      " 2   Rating     1000209 non-null  int64\n",
      " 3   Timestamp  1000209 non-null  int64\n",
      "dtypes: int64(4)\n",
      "memory usage: 30.5 MB\n"
     ]
    }
   ],
   "source": [
    "ratings.info()"
   ]
  },
  {
   "cell_type": "code",
   "execution_count": 26,
   "id": "2649a7f7",
   "metadata": {},
   "outputs": [],
   "source": [
    "A = []"
   ]
  },
  {
   "cell_type": "code",
   "execution_count": 27,
   "id": "89f8c2c3",
   "metadata": {},
   "outputs": [],
   "source": [
    "def preprocess(x):\n",
    "    if x['Rating'] != 0:\n",
    "        A.append([x['UserID'], x['MovieID'], x['Rating']])"
   ]
  },
  {
   "cell_type": "code",
   "execution_count": 28,
   "id": "46684bc7",
   "metadata": {},
   "outputs": [
    {
     "data": {
      "text/plain": [
       "0          None\n",
       "1          None\n",
       "2          None\n",
       "3          None\n",
       "4          None\n",
       "           ... \n",
       "1000204    None\n",
       "1000205    None\n",
       "1000206    None\n",
       "1000207    None\n",
       "1000208    None\n",
       "Length: 1000209, dtype: object"
      ]
     },
     "execution_count": 28,
     "metadata": {},
     "output_type": "execute_result"
    }
   ],
   "source": [
    "ratings.apply(lambda x:preprocess(x), axis=1)"
   ]
  },
  {
   "cell_type": "markdown",
   "id": "f8ecf183",
   "metadata": {},
   "source": [
    "## 2 数据集划分"
   ]
  },
  {
   "cell_type": "code",
   "execution_count": 44,
   "id": "ed0ed49d",
   "metadata": {},
   "outputs": [],
   "source": [
    "# 对数据集A打乱后分割，等效于无放回抽取\n",
    "\n",
    "random.shuffle(A)\n",
    "train_set = A[:int(len(A)*0.8)]\n",
    "test_set = A[int(len(A)*0.8):int(len(A)*0.9)]\n",
    "val_set = A[int(len(A)*0.9):]"
   ]
  },
  {
   "cell_type": "code",
   "execution_count": 48,
   "id": "348814cc",
   "metadata": {},
   "outputs": [
    {
     "data": {
      "text/plain": [
       "800167"
      ]
     },
     "execution_count": 48,
     "metadata": {},
     "output_type": "execute_result"
    }
   ],
   "source": [
    "len(train_set)"
   ]
  },
  {
   "cell_type": "code",
   "execution_count": 49,
   "id": "33a719a3",
   "metadata": {},
   "outputs": [
    {
     "data": {
      "text/plain": [
       "100021"
      ]
     },
     "execution_count": 49,
     "metadata": {},
     "output_type": "execute_result"
    }
   ],
   "source": [
    "len(test_set)"
   ]
  },
  {
   "cell_type": "code",
   "execution_count": 50,
   "id": "42ab8fea",
   "metadata": {},
   "outputs": [
    {
     "data": {
      "text/plain": [
       "100021"
      ]
     },
     "execution_count": 50,
     "metadata": {},
     "output_type": "execute_result"
    }
   ],
   "source": [
    "len(val_set)"
   ]
  },
  {
   "cell_type": "markdown",
   "id": "9aa7747a",
   "metadata": {},
   "source": [
    "## 3 基于SVD的推荐算法"
   ]
  },
  {
   "cell_type": "code",
   "execution_count": 94,
   "id": "176f7487",
   "metadata": {},
   "outputs": [],
   "source": [
    "import numpy as np\n",
    "import random\n",
    "\n",
    "\n",
    "def build_mat(k):\n",
    "    # 用于建立pu，qi的函数\n",
    "    return np.random.uniform(0,1,(k,1))\n",
    "\n",
    "\n",
    "# mat 格式: [[uid, iid, rate],...]\n",
    "class SVD:\n",
    "    def __init__(self, K=20):\n",
    "        self.K = K\n",
    "        # 使用字典结构存储p q\n",
    "        self.p = {}\n",
    "        self.q = {}\n",
    "            \n",
    "    \n",
    "    def predict(self, uid, iid):\n",
    "        self.p.setdefault(uid,build_mat(self.K))\n",
    "        self.q.setdefault(iid,build_mat(self.K))\n",
    "        # 预测评分\n",
    "        rate = np.sum(self.p[uid] * self.q[iid])\n",
    "        if rate > 5:\n",
    "            rate = 5\n",
    "        if rate < 1:\n",
    "            rate = 1\n",
    "        return rate\n",
    "    \n",
    "    \n",
    "    def train(self, train_data, lr=0.15, epoch=30):\n",
    "        mat = np.array(train_data)\n",
    "        data_size = mat.shape\n",
    "        list_rmse = []\n",
    "        print('Train data size', data_size, ', K =', self.K)\n",
    "        for e in range(epoch):\n",
    "            print('Epoch', e+1, ':', end=' ')\n",
    "            rmse = 0.0\n",
    "            for i in range(data_size[0]):\n",
    "                uid = mat[i,0]\n",
    "                iid = mat[i,1]\n",
    "                rate = mat[i,2]\n",
    "                eui = rate - self.predict(uid, iid)\n",
    "                rmse += eui**2\n",
    "                temp = self.p[uid]\n",
    "                self.p[uid] += lr*eui*self.q[iid]\n",
    "                self.q[iid] += lr*eui*temp\n",
    "            print('RMSE is', np.sqrt(rmse/data_size[0]))\n",
    "            list_rmse.append(np.sqrt(rmse/data_size[0]))\n",
    "        return list_rmse\n",
    "    \n",
    "    \n",
    "    def test(self, test_data):\n",
    "        mat = np.array(test_data)\n",
    "        data_size = mat.shape\n",
    "        print('Test data size', data_size)\n",
    "        rmse=0.0\n",
    "        for i in range(data_size[0]):\n",
    "            uid = mat[i,0]\n",
    "            iid = mat[i,1]\n",
    "            rate = mat[i,2]\n",
    "            eui = rate - self.predict(uid, iid)\n",
    "            rmse += eui**2\n",
    "        print('RMSE is',np.sqrt(rmse/data_size[0]))\n",
    "\n",
    "        "
   ]
  },
  {
   "cell_type": "code",
   "execution_count": 95,
   "id": "e79079a0",
   "metadata": {},
   "outputs": [],
   "source": [
    "def draw(y, K, lr):\n",
    "    x = range(len(y))\n",
    "    plt.plot(x,y)\n",
    "    title = 'K=' + str(K) + ', lr=' + str(lr)\n",
    "    plt.title(title)\n",
    "    plt.show()"
   ]
  },
  {
   "cell_type": "markdown",
   "id": "3f1ec374",
   "metadata": {},
   "source": [
    "## 4 算法调参"
   ]
  },
  {
   "cell_type": "code",
   "execution_count": 96,
   "id": "efcf33b6",
   "metadata": {},
   "outputs": [
    {
     "name": "stdout",
     "output_type": "stream",
     "text": [
      "Train data size (800167, 3) , K = 10\n",
      "Epoch 1 : RMSE is 1.0036747357818296\n",
      "Epoch 2 : RMSE is 0.9280968771389356\n",
      "Epoch 3 : RMSE is 0.9181640824005036\n",
      "Epoch 4 : RMSE is 0.9099507001007817\n",
      "Epoch 5 : RMSE is 0.9001184529202018\n",
      "Epoch 6 : RMSE is 0.8896998428466312\n",
      "Epoch 7 : RMSE is 0.8800783432532298\n",
      "Epoch 8 : RMSE is 0.8712912311022255\n",
      "Epoch 9 : RMSE is 0.8631562245021301\n",
      "Epoch 10 : RMSE is 0.85564869326436\n",
      "Epoch 11 : RMSE is 0.8488170201395241\n",
      "Epoch 12 : RMSE is 0.8426902793808299\n",
      "Epoch 13 : RMSE is 0.8372501792992892\n",
      "Epoch 14 : RMSE is 0.8324474883513829\n",
      "Epoch 15 : RMSE is 0.828218232141755\n",
      "Epoch 16 : RMSE is 0.8244922773629577\n",
      "Epoch 17 : RMSE is 0.8212049699973216\n",
      "Epoch 18 : RMSE is 0.8182967967910869\n",
      "Epoch 19 : RMSE is 0.8157161367533696\n",
      "Epoch 20 : RMSE is 0.8134219192457515\n",
      "Epoch 21 : RMSE is 0.8113793017194528\n",
      "Epoch 22 : RMSE is 0.8095540220849914\n",
      "Epoch 23 : RMSE is 0.8079227483093567\n",
      "Epoch 24 : RMSE is 0.8064629816223624\n",
      "Epoch 25 : RMSE is 0.8051574789567022\n",
      "Epoch 26 : RMSE is 0.8039896817943116\n",
      "Epoch 27 : RMSE is 0.8029461172940014\n",
      "Epoch 28 : RMSE is 0.8020164547218417\n",
      "Epoch 29 : RMSE is 0.8011903016034667\n",
      "Epoch 30 : RMSE is 0.800459331843956\n"
     ]
    }
   ],
   "source": [
    "# K=10, lr=0.01\n",
    "svd_1 = SVD(10)\n",
    "list1 = svd_1.train(train_set, 0.01)"
   ]
  },
  {
   "cell_type": "code",
   "execution_count": 100,
   "id": "bc9d5bb1",
   "metadata": {},
   "outputs": [
    {
     "name": "stdout",
     "output_type": "stream",
     "text": [
      "Train data size (800167, 3) , K = 20\n",
      "Epoch 1 : RMSE is 1.0394005559400168\n",
      "Epoch 2 : RMSE is 0.9349436133525635\n",
      "Epoch 3 : RMSE is 0.9142963126142188\n",
      "Epoch 4 : RMSE is 0.8984071266169552\n",
      "Epoch 5 : RMSE is 0.8822959111096491\n",
      "Epoch 6 : RMSE is 0.8667816584761195\n",
      "Epoch 7 : RMSE is 0.8524664400693358\n",
      "Epoch 8 : RMSE is 0.8393884466683902\n",
      "Epoch 9 : RMSE is 0.827540648572773\n",
      "Epoch 10 : RMSE is 0.8169221614325733\n",
      "Epoch 11 : RMSE is 0.8074705638991208\n",
      "Epoch 12 : RMSE is 0.7990823681037481\n",
      "Epoch 13 : RMSE is 0.7916403725719935\n",
      "Epoch 14 : RMSE is 0.7850291661901669\n",
      "Epoch 15 : RMSE is 0.7791417880149908\n",
      "Epoch 16 : RMSE is 0.7738826619522615\n",
      "Epoch 17 : RMSE is 0.7691709855383284\n",
      "Epoch 18 : RMSE is 0.7649370239513701\n",
      "Epoch 19 : RMSE is 0.7611214588652937\n",
      "Epoch 20 : RMSE is 0.7576727625142395\n",
      "Epoch 21 : RMSE is 0.754546153592956\n",
      "Epoch 22 : RMSE is 0.7517070233037723\n",
      "Epoch 23 : RMSE is 0.749122585453588\n",
      "Epoch 24 : RMSE is 0.746765362332826\n",
      "Epoch 25 : RMSE is 0.7446142553445981\n",
      "Epoch 26 : RMSE is 0.7426486268390496\n",
      "Epoch 27 : RMSE is 0.740852176423408\n",
      "Epoch 28 : RMSE is 0.739208439632074\n",
      "Epoch 29 : RMSE is 0.7377042526509908\n",
      "Epoch 30 : RMSE is 0.7363278039660125\n"
     ]
    }
   ],
   "source": [
    "# K=20, lr=0.01\n",
    "svd_2 = SVD(20)\n",
    "list2 = svd_2.train(train_set, 0.01)"
   ]
  },
  {
   "cell_type": "code",
   "execution_count": 102,
   "id": "c4182fed",
   "metadata": {},
   "outputs": [
    {
     "name": "stdout",
     "output_type": "stream",
     "text": [
      "Train data size (800167, 3) , K = 30\n",
      "Epoch 1 : RMSE is 1.1431147162516517\n",
      "Epoch 2 : RMSE is 0.9515319585156793\n",
      "Epoch 3 : RMSE is 0.9149089905477316\n",
      "Epoch 4 : RMSE is 0.8908594818527249\n",
      "Epoch 5 : RMSE is 0.8685380960079736\n",
      "Epoch 6 : RMSE is 0.8477832847368021\n",
      "Epoch 7 : RMSE is 0.8293218461013956\n",
      "Epoch 8 : RMSE is 0.8130178085545315\n",
      "Epoch 9 : RMSE is 0.798591021211643\n",
      "Epoch 10 : RMSE is 0.785808431916792\n",
      "Epoch 11 : RMSE is 0.77445117904542\n",
      "Epoch 12 : RMSE is 0.7643405479313298\n",
      "Epoch 13 : RMSE is 0.7553112133949625\n",
      "Epoch 14 : RMSE is 0.7472199934280851\n",
      "Epoch 15 : RMSE is 0.7399463226904194\n",
      "Epoch 16 : RMSE is 0.7333898285992922\n",
      "Epoch 17 : RMSE is 0.7274624563153118\n",
      "Epoch 18 : RMSE is 0.7220911750875496\n",
      "Epoch 19 : RMSE is 0.7172105159829576\n",
      "Epoch 20 : RMSE is 0.7127636032678087\n",
      "Epoch 21 : RMSE is 0.7087007134140373\n",
      "Epoch 22 : RMSE is 0.7049787277581984\n",
      "Epoch 23 : RMSE is 0.7015647005377645\n",
      "Epoch 24 : RMSE is 0.6984278649371354\n",
      "Epoch 25 : RMSE is 0.6955408807902712\n",
      "Epoch 26 : RMSE is 0.6928786746457517\n",
      "Epoch 27 : RMSE is 0.6904201025007414\n",
      "Epoch 28 : RMSE is 0.6881487325266977\n",
      "Epoch 29 : RMSE is 0.6860470797832998\n",
      "Epoch 30 : RMSE is 0.6841016664040784\n"
     ]
    }
   ],
   "source": [
    "# K=30, lr=0.01\n",
    "svd_3 = SVD(30)\n",
    "list3 = svd_3.train(train_set, 0.01)"
   ]
  },
  {
   "cell_type": "code",
   "execution_count": 104,
   "id": "21a27b4b",
   "metadata": {},
   "outputs": [
    {
     "name": "stdout",
     "output_type": "stream",
     "text": [
      "Train data size (800167, 3) , K = 40\n",
      "Epoch 1 : RMSE is 1.230847129733242\n",
      "Epoch 2 : RMSE is 0.9741039500440023\n",
      "Epoch 3 : RMSE is 0.9174123484771943\n",
      "Epoch 4 : RMSE is 0.8830989076823391\n",
      "Epoch 5 : RMSE is 0.8546998487144524\n",
      "Epoch 6 : RMSE is 0.829896949935248\n",
      "Epoch 7 : RMSE is 0.808184756158512\n",
      "Epoch 8 : RMSE is 0.7890910843577512\n",
      "Epoch 9 : RMSE is 0.7722283447507422\n",
      "Epoch 10 : RMSE is 0.7572821731134644\n",
      "Epoch 11 : RMSE is 0.7439941760265281\n",
      "Epoch 12 : RMSE is 0.7321491637591362\n",
      "Epoch 13 : RMSE is 0.7215595077005938\n",
      "Epoch 14 : RMSE is 0.7120629366571993\n",
      "Epoch 15 : RMSE is 0.7035223725835786\n",
      "Epoch 16 : RMSE is 0.6958181631870018\n",
      "Epoch 17 : RMSE is 0.688846893014976\n",
      "Epoch 18 : RMSE is 0.6825172524856649\n",
      "Epoch 19 : RMSE is 0.6767501684377044\n",
      "Epoch 20 : RMSE is 0.6714794131110439\n",
      "Epoch 21 : RMSE is 0.6666526332135816\n",
      "Epoch 22 : RMSE is 0.6622219111720684\n",
      "Epoch 23 : RMSE is 0.6581463243459612\n",
      "Epoch 24 : RMSE is 0.6543847061464818\n",
      "Epoch 25 : RMSE is 0.6509078050250208\n",
      "Epoch 26 : RMSE is 0.6476878253967892\n",
      "Epoch 27 : RMSE is 0.6446999250583039\n",
      "Epoch 28 : RMSE is 0.6419216281199676\n",
      "Epoch 29 : RMSE is 0.6393350761315015\n",
      "Epoch 30 : RMSE is 0.6369241881556968\n"
     ]
    }
   ],
   "source": [
    "# K=40, lr=0.01\n",
    "svd_4 = SVD(40)\n",
    "list4 = svd_4.train(train_set, 0.01)"
   ]
  },
  {
   "cell_type": "code",
   "execution_count": 107,
   "id": "d465e16e",
   "metadata": {},
   "outputs": [
    {
     "name": "stdout",
     "output_type": "stream",
     "text": [
      "Train data size (800167, 3) , K = 40\n",
      "Epoch 1 : RMSE is 1.1564076581545188\n",
      "Epoch 2 : RMSE is 0.9339130291412165\n",
      "Epoch 3 : RMSE is 0.8732466098202804\n",
      "Epoch 4 : RMSE is 0.8310503762092067\n",
      "Epoch 5 : RMSE is 0.8002818919173769\n",
      "Epoch 6 : RMSE is 0.7777795104092066\n",
      "Epoch 7 : RMSE is 0.7617851438210562\n",
      "Epoch 8 : RMSE is 0.7512338971187028\n",
      "Epoch 9 : RMSE is 0.7456758211146208\n",
      "Epoch 10 : RMSE is 0.7454056594537524\n",
      "Epoch 11 : RMSE is 0.7526353829260876\n",
      "Epoch 12 : RMSE is 0.778006101473576\n",
      "Epoch 13 : RMSE is 0.8996010236228626\n",
      "Epoch 14 : RMSE is 1.488891212443432\n",
      "Epoch 15 : RMSE is 2.0960361571656727\n",
      "Epoch 16 : RMSE is 2.1840295780422694\n",
      "Epoch 17 : RMSE is 2.190895763138646\n",
      "Epoch 18 : RMSE is 2.200785127796769\n",
      "Epoch 19 : RMSE is 2.21197985220178\n",
      "Epoch 20 : RMSE is 2.2319467609803603\n",
      "Epoch 21 : RMSE is 2.253188064990307\n",
      "Epoch 22 : RMSE is 2.2605639796941297\n",
      "Epoch 23 : RMSE is 2.258369229479177\n",
      "Epoch 24 : RMSE is 2.2633728931910015\n",
      "Epoch 25 : RMSE is 2.2640044736553433\n",
      "Epoch 26 : RMSE is 2.26758965980441\n",
      "Epoch 27 : RMSE is 2.2631299306952926\n",
      "Epoch 28 : RMSE is 2.259564216755885\n",
      "Epoch 29 : RMSE is 2.26416786089032\n",
      "Epoch 30 : RMSE is 2.263668830453162\n"
     ]
    }
   ],
   "source": [
    "# K=40, lr=0.02\n",
    "svd_5 = SVD(40)\n",
    "list5 = svd_5.train(train_set, 0.02)"
   ]
  },
  {
   "cell_type": "code",
   "execution_count": null,
   "id": "0ab3e053",
   "metadata": {},
   "outputs": [],
   "source": []
  }
 ],
 "metadata": {
  "kernelspec": {
   "display_name": "TensorFlow-CPU",
   "language": "python",
   "name": "tensorflow-cpu"
  },
  "language_info": {
   "codemirror_mode": {
    "name": "ipython",
    "version": 3
   },
   "file_extension": ".py",
   "mimetype": "text/x-python",
   "name": "python",
   "nbconvert_exporter": "python",
   "pygments_lexer": "ipython3",
   "version": "3.8.8"
  }
 },
 "nbformat": 4,
 "nbformat_minor": 5
}
